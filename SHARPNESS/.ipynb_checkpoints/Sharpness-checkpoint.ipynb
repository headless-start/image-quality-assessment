{
 "cells": [
  {
   "cell_type": "code",
   "execution_count": 4,
   "id": "a21e60c4",
   "metadata": {},
   "outputs": [
    {
     "name": "stdout",
     "output_type": "stream",
     "text": [
      "Image is Blurry with the variance value of: 38.3101351727257\n"
     ]
    }
   ],
   "source": [
    "import cv2\n",
    "import numpy as np\n",
    "\n",
    "class Sharpness:\n",
    "    \n",
    "        def __init__(self):\n",
    "            pass\n",
    "    \n",
    "        def variance_of_laplacian(self, image):\n",
    "            \n",
    "            #Function to calculate variance of laplacian for blur detection in Images.\n",
    "            \n",
    "            #Load the image.\n",
    "            img = cv2.imread(image)\n",
    "            \n",
    "            #Coverting the image in BGR channel to grayscale image.\n",
    "            gray = cv2.cvtColor(img, cv2.COLOR_BGR2GRAY)\n",
    "            \n",
    "            #Convolving the grayscale image with laplacian kernel.\n",
    "            laplacian = cv2.Laplacian(gray, cv2.CV_64F)\n",
    "            \n",
    "            #Calculating the variance to quantify the variance value.\n",
    "            var = np.var(laplacian)\n",
    "            \n",
    "            #Setting the threshold for variance value to detect blur in an image.\n",
    "            if(var<100):\n",
    "                print(\"Image is Blurry with the variance value of:\", var)\n",
    "            else:\n",
    "                print(\"Image is not Blurry with the variance value of:\", var)\n",
    "                \n",
    "        \n",
    "\n",
    "\n",
    "Sharp = Sharpness()\n",
    "Sharp.variance_of_laplacian('/Users/ayush/Desktop/IMG_6032.JPG')\n",
    "\n"
   ]
  },
  {
   "cell_type": "code",
   "execution_count": null,
   "id": "0aeb9db6",
   "metadata": {},
   "outputs": [],
   "source": []
  }
 ],
 "metadata": {
  "kernelspec": {
   "display_name": "Python 3 (ipykernel)",
   "language": "python",
   "name": "python3"
  },
  "language_info": {
   "codemirror_mode": {
    "name": "ipython",
    "version": 3
   },
   "file_extension": ".py",
   "mimetype": "text/x-python",
   "name": "python",
   "nbconvert_exporter": "python",
   "pygments_lexer": "ipython3",
   "version": "3.11.2"
  }
 },
 "nbformat": 4,
 "nbformat_minor": 5
}
