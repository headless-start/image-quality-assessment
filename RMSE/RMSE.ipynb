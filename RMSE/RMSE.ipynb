{
 "cells": [
  {
   "cell_type": "code",
   "execution_count": 18,
   "id": "e46e6042",
   "metadata": {},
   "outputs": [
    {
     "name": "stdout",
     "output_type": "stream",
     "text": [
      "RMSE value: 7.332019262262706\n",
      "The RMSE for the blue channel is: 7.110196915248628\n",
      "The RMSE for the green channel is: 6.990996779864817\n",
      "The RMSE for the red channel is: 7.151729359517887\n"
     ]
    }
   ],
   "source": [
    "import cv2\n",
    "import numpy as np\n",
    "\n",
    "class RMSEImage:\n",
    "    \n",
    "    def __init__(self):\n",
    "        pass\n",
    "\n",
    "    def scale_image(self, image_path):\n",
    "        \n",
    "        #Function to scale the image of any resolution to 1920*1080, maintaining the ascpect the ratio of original Image.\n",
    "        \n",
    "        # Load the image\n",
    "        img = cv2.imread(image_path)\n",
    "\n",
    "        # Get original image size\n",
    "        height, width = img.shape[:2]\n",
    "\n",
    "        # Calculate new image size\n",
    "        aspect_ratio = width / height\n",
    "        new_width = int(aspect_ratio * 1080)\n",
    "        new_height = 1080\n",
    "\n",
    "        # Resize image using cubic interpolation\n",
    "        resized_img = cv2.resize(img, (new_width, new_height), interpolation=cv2.INTER_CUBIC)\n",
    "\n",
    "        # Add black padding to fill empty space into the new resized image to maintain the Aspect ratio.\n",
    "        top_pad = (1920 - new_width) // 2\n",
    "        bottom_pad = 1920 - new_width - top_pad\n",
    "        resized_img = cv2.copyMakeBorder(resized_img, 0, 0, top_pad, bottom_pad, cv2.BORDER_CONSTANT, value=(0,0,0))\n",
    "\n",
    "        return resized_img\n",
    "    \n",
    "    def rmse(self, img1_path, img2_path):\n",
    "        \n",
    "        # Function to calculate RMSE of two images, by changing the image to a grayscale image.\n",
    "        img1 = self.scale_image(img1_path)\n",
    "        img2 = self.scale_image(img2_path)\n",
    "        \n",
    "        # Resizing the two images to the same dimensions to get rid of the resolution ambiguity.\n",
    "        #img2 = cv2.resize(img2, (width, height), interpolation=cv2.INTER_CUBIC) \n",
    "        \n",
    "        # Converting the colour photo to Grayscale. \n",
    "        img1 = cv2.cvtColor(img1, cv2.COLOR_BGR2GRAY) \n",
    "        img2 = cv2.cvtColor(img2, cv2.COLOR_BGR2GRAY)\n",
    "        \n",
    "        # Computing Mean Squared Error(MSE) and then RMSE.\n",
    "        mse = np.mean((img1 - img2)**2)\n",
    "        rmse = np.sqrt(mse)\n",
    "        \n",
    "        # Return rmse\n",
    "        print('RMSE value:', rmse_val)\n",
    "    \n",
    "    def rmse_bgr_channels(self, img1_path, img2_path):\n",
    "        img1 = self.scale_image(img1_path)\n",
    "        img2 = self.scale_image(img2_path)\n",
    "        height, width = img1.shape[:2]\n",
    "    \n",
    "        \n",
    "        img1_b, img1_g, img1_r = cv2.split(img1)\n",
    "        img2_b, img2_g, img2_r = cv2.split(img2)\n",
    "\n",
    "        # Calculate the RMSE for each channel\n",
    "        rmse_b = np.sqrt(np.mean(np.square(img1_b - img2_b)))\n",
    "        rmse_g = np.sqrt(np.mean(np.square(img1_g - img2_g)))\n",
    "        rmse_r = np.sqrt(np.mean(np.square(img1_r - img2_r)))\n",
    "        \n",
    "        #Return RMSE for all the channels, i.e. B,G,R channels.\n",
    "        print('The RMSE for the blue channel is:', rmse_b)\n",
    "        print('The RMSE for the green channel is:', rmse_g)\n",
    "        print('The RMSE for the red channel is:', rmse_r)\n",
    "        \n",
    "comparator = RMSEImage()\n",
    "comparator.rmse('/Users/ayush/Desktop/img_ref.JPG', '/Users/ayush/Desktop/img_2.jpg' )\n",
    "comparator.rmse_bgr_channels('/Users/ayush/Desktop/img_ref.JPG', '/Users/ayush/Desktop/img_2.jpg' )\n",
    "\n"
   ]
  },
  {
   "cell_type": "code",
   "execution_count": null,
   "id": "7047dab3",
   "metadata": {},
   "outputs": [],
   "source": []
  },
  {
   "cell_type": "code",
   "execution_count": null,
   "id": "2cd95480",
   "metadata": {},
   "outputs": [],
   "source": []
  }
 ],
 "metadata": {
  "kernelspec": {
   "display_name": "Python 3 (ipykernel)",
   "language": "python",
   "name": "python3"
  },
  "language_info": {
   "codemirror_mode": {
    "name": "ipython",
    "version": 3
   },
   "file_extension": ".py",
   "mimetype": "text/x-python",
   "name": "python",
   "nbconvert_exporter": "python",
   "pygments_lexer": "ipython3",
   "version": "3.11.2"
  }
 },
 "nbformat": 4,
 "nbformat_minor": 5
}
